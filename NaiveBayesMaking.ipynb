{
 "cells": [
  {
   "cell_type": "code",
   "execution_count": 4,
   "metadata": {},
   "outputs": [],
   "source": [
    "import pandas as pd\n",
    "import numpy as np\n",
    "import matplotlib.pyplot as plt\n",
    "import math"
   ]
  },
  {
   "cell_type": "code",
   "execution_count": 3,
   "metadata": {},
   "outputs": [],
   "source": [
    "df = pd.read_csv('Salary_dataset.csv')\n",
    "df.drop(columns='Unnamed: 0', inplace=True)\n",
    "\n",
    "from sklearn.model_selection import train_test_split\n",
    "\n",
    "X = df['YearsExperience']\n",
    "y = df['Salary']\n",
    "X_train, X_test, y_train, y_test  = train_test_split(X, y) "
   ]
  },
  {
   "cell_type": "code",
   "execution_count": null,
   "metadata": {},
   "outputs": [],
   "source": [
    "class GaussianNB():\n",
    "    def fit(self, X_train, y_train):\n",
    "        self.classes = np.unique(y_train)\n",
    "        self.class_probs = np.zeros(len(self.classes))\n",
    "        self.feature_probs = []\n",
    "        \n",
    "        for i , cls in enumerate(self.classes):\n",
    "            X_cls = X_train[y_train == cls]\n",
    "            self.class_probs[i] = len(X_cls) / len(X_train)\n",
    "            self.feature_probs.append([(np.mean(X_cls[:, j]), np.std(X_cls[:, j])) for j in range(X_train.shape[1])])\n",
    "            \n",
    "            \n",
    "    def _gaussian_prob(self, X_train, mean, std):\n",
    "        return np.exp(-((X_train - mean)**2) / (2 * std**2)) / (np.sqrt(2 * np.pi) * std)\n",
    "        \n",
    "    def predict(self, X_test):\n",
    "        preds = []\n",
    "        for x in X_test:\n",
    "            class_probs = []\n",
    "            for i, cls in enumerate(self.classes):\n",
    "                likelihood = 0\n",
    "                for j, feature in enumerate(x):\n",
    "                    mean, std = self.feature_probs[i][j]\n",
    "                    if std == 0:  # Handling zero standard deviation\n",
    "                        std = 1e-9  # Adding a small epsilon\n",
    "                    likelihood += np.log(self._gaussian_prob(feature, mean, std))\n",
    "                class_probs.append(likelihood + np.log(self.class_probs[i]))  # Taking log probabilities\n",
    "            preds.append(self.classes[np.argmax(class_probs)])\n",
    "        return preds"
   ]
  },
  {
   "cell_type": "code",
   "execution_count": null,
   "metadata": {},
   "outputs": [],
   "source": [
    "class MultinomialNB():\n",
    "    def __init__(self, alpha=1.0):\n",
    "        self.alpha = alpha\n",
    "    \n",
    "    def fit(self, X_train, y_train):\n",
    "        self.classes = np.unique(y_train)\n",
    "        self.class_counts = np.zeros(len(self.classes))\n",
    "        self.feature_counts = np.zeros((len(self.classes), X_train.shape[1]))\n",
    "        self.class_probs = np.zeros(len(self.classes))\n",
    "        \n",
    "        for i, cls in enumerate(self.classes):\n",
    "            X_cls = X_train[y_train == cls]\n",
    "            self.class_counts[i] = len(X_cls)\n",
    "            self.feature_counts[i] = np.sum(X_cls, axis=0)\n",
    "            \n",
    "        self.class_probs = (self.class_counts + self.alpha) / (len(y_train) + self.alpha * len(self.classes))\n",
    "        \n",
    "        \n",
    "    def _multinomial_prob(self, X_train, class_index):\n",
    "        return np.sum(np.log((self.feature_counts[class_index] + self.alpha) / (self.class_counts[class_index] + self.alpha * X_train.shape[1])) * X_train)\n",
    "    \n",
    "    def predict(self, X_test):\n",
    "        preds = []\n",
    "        for x in X_test:\n",
    "            class_probs = []\n",
    "            for i, cls in enumerate(self.classes):\n",
    "                class_prob = np.log(self.class_probs[i])\n",
    "                feature_prob = self._multinomial_prob(x, i)\n",
    "                class_probs.append(class_prob + feature_prob)\n",
    "            preds.append(self.classes[np.argmax(class_probs)])\n",
    "        return preds"
   ]
  }
 ],
 "metadata": {
  "kernelspec": {
   "display_name": "algosfromscratch",
   "language": "python",
   "name": "python3"
  },
  "language_info": {
   "codemirror_mode": {
    "name": "ipython",
    "version": 3
   },
   "file_extension": ".py",
   "mimetype": "text/x-python",
   "name": "python",
   "nbconvert_exporter": "python",
   "pygments_lexer": "ipython3",
   "version": "3.11.5"
  }
 },
 "nbformat": 4,
 "nbformat_minor": 2
}
